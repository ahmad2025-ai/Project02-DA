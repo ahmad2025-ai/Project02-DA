{
 "cells": [
  {
   "cell_type": "markdown",
   "metadata": {},
   "source": [
    "# Demographic analysis"
   ]
  },
  {
   "cell_type": "code",
   "execution_count": 1,
   "metadata": {},
   "outputs": [],
   "source": [
    "import pandas as pd\n",
    "import numpy as np"
   ]
  },
  {
   "cell_type": "code",
   "execution_count": 2,
   "metadata": {},
   "outputs": [
    {
     "name": "stderr",
     "output_type": "stream",
     "text": [
      "/var/folders/yr/gmmc3xcx5xg406qfnj2bnx340000gn/T/ipykernel_89853/1215530506.py:1: DtypeWarning: Columns (14) have mixed types. Specify dtype option on import or set low_memory=False.\n",
      "  full_data_demo_duplicates = pd.read_csv('../merged_data/full_info_dataframe.csv', sep=\",\")\n"
     ]
    }
   ],
   "source": [
    "full_data_demo_duplicates = pd.read_csv('../merged_data/full_info_dataframe.csv', sep=\",\")"
   ]
  },
  {
   "cell_type": "code",
   "execution_count": 3,
   "metadata": {},
   "outputs": [],
   "source": [
    "full_data_demo = full_data_demo_duplicates.sort_values('date_time').drop_duplicates(subset='client_id', keep='first')"
   ]
  },
  {
   "cell_type": "code",
   "execution_count": 4,
   "metadata": {},
   "outputs": [
    {
     "data": {
      "text/plain": [
       "array([nan, 'Control', 'Test'], dtype=object)"
      ]
     },
     "execution_count": 4,
     "metadata": {},
     "output_type": "execute_result"
    }
   ],
   "source": [
    "full_data_demo['variation'].unique() "
   ]
  },
  {
   "cell_type": "code",
   "execution_count": 5,
   "metadata": {},
   "outputs": [
    {
     "data": {
      "text/plain": [
       "variation\n",
       "Test       26968\n",
       "Control    23532\n",
       "Name: count, dtype: int64"
      ]
     },
     "execution_count": 5,
     "metadata": {},
     "output_type": "execute_result"
    }
   ],
   "source": [
    "full_data_demo['variation'].value_counts()"
   ]
  },
  {
   "cell_type": "code",
   "execution_count": 6,
   "metadata": {},
   "outputs": [
    {
     "data": {
      "text/html": [
       "<div>\n",
       "<style scoped>\n",
       "    .dataframe tbody tr th:only-of-type {\n",
       "        vertical-align: middle;\n",
       "    }\n",
       "\n",
       "    .dataframe tbody tr th {\n",
       "        vertical-align: top;\n",
       "    }\n",
       "\n",
       "    .dataframe thead th {\n",
       "        text-align: right;\n",
       "    }\n",
       "</style>\n",
       "<table border=\"1\" class=\"dataframe\">\n",
       "  <thead>\n",
       "    <tr style=\"text-align: right;\">\n",
       "      <th></th>\n",
       "      <th>count</th>\n",
       "      <th>mean</th>\n",
       "      <th>std</th>\n",
       "      <th>min</th>\n",
       "      <th>25%</th>\n",
       "      <th>50%</th>\n",
       "      <th>75%</th>\n",
       "      <th>max</th>\n",
       "    </tr>\n",
       "    <tr>\n",
       "      <th>variation</th>\n",
       "      <th></th>\n",
       "      <th></th>\n",
       "      <th></th>\n",
       "      <th></th>\n",
       "      <th></th>\n",
       "      <th></th>\n",
       "      <th></th>\n",
       "      <th></th>\n",
       "    </tr>\n",
       "  </thead>\n",
       "  <tbody>\n",
       "    <tr>\n",
       "      <th>Control</th>\n",
       "      <td>23526.0</td>\n",
       "      <td>47.498427</td>\n",
       "      <td>15.521781</td>\n",
       "      <td>17.0</td>\n",
       "      <td>33.5</td>\n",
       "      <td>48.5</td>\n",
       "      <td>60.0</td>\n",
       "      <td>96.0</td>\n",
       "    </tr>\n",
       "    <tr>\n",
       "      <th>Test</th>\n",
       "      <td>26961.0</td>\n",
       "      <td>47.163922</td>\n",
       "      <td>15.514461</td>\n",
       "      <td>17.0</td>\n",
       "      <td>33.5</td>\n",
       "      <td>47.5</td>\n",
       "      <td>59.5</td>\n",
       "      <td>96.0</td>\n",
       "    </tr>\n",
       "  </tbody>\n",
       "</table>\n",
       "</div>"
      ],
      "text/plain": [
       "             count       mean        std   min   25%   50%   75%   max\n",
       "variation                                                             \n",
       "Control    23526.0  47.498427  15.521781  17.0  33.5  48.5  60.0  96.0\n",
       "Test       26961.0  47.163922  15.514461  17.0  33.5  47.5  59.5  96.0"
      ]
     },
     "execution_count": 6,
     "metadata": {},
     "output_type": "execute_result"
    }
   ],
   "source": [
    "full_data_demo.groupby('variation')['clnt_age'].describe()"
   ]
  },
  {
   "cell_type": "code",
   "execution_count": 7,
   "metadata": {},
   "outputs": [
    {
     "data": {
      "text/plain": [
       "array(['F', 'M', nan], dtype=object)"
      ]
     },
     "execution_count": 7,
     "metadata": {},
     "output_type": "execute_result"
    }
   ],
   "source": [
    "full_data_demo['gendr'].unique()\n"
   ]
  },
  {
   "cell_type": "code",
   "execution_count": 8,
   "metadata": {},
   "outputs": [
    {
     "data": {
      "text/plain": [
       "variation  gendr\n",
       "Control    M        0.513763\n",
       "           F        0.486237\n",
       "Test       M        0.507376\n",
       "           F        0.492624\n",
       "Name: proportion, dtype: float64"
      ]
     },
     "execution_count": 8,
     "metadata": {},
     "output_type": "execute_result"
    }
   ],
   "source": [
    "full_data_demo.groupby('variation')['gendr'].value_counts(normalize=True)"
   ]
  },
  {
   "cell_type": "markdown",
   "metadata": {},
   "source": [
    "## 🧪 Demographic Distribution Analysis: Test vs Control\n",
    "\n",
    "---\n",
    "\n",
    "### 📊 1. Sample Size\n",
    "\n",
    "| Group   | Sample Size |\n",
    "|---------|-------------|\n",
    "| Test    | 26,968      |\n",
    "| Control | 23,532      |\n",
    "\n",
    "**Comment:**  \n",
    "There is a slight difference in sample size (~3,400 more in the Test group), but it's not extreme. If statistical comparison is required, you might consider using stratified sampling or matching to balance the groups more precisely.\n",
    "\n",
    "---\n",
    "\n",
    "### 👤 2. Age Distribution (`clnt_age`)\n",
    "\n",
    "| Group   | Mean  | Std. Dev. | Median | Min | Max |\n",
    "|---------|-------|-----------|--------|-----|-----|\n",
    "| Control | 47.50 | 15.52     | 48.5   | 17  | 96  |\n",
    "| Test    | 47.16 | 15.51     | 47.5   | 17  | 96  |\n",
    "\n",
    "**Comment:**  \n",
    "Age distribution is highly consistent between the two groups. Means, medians, and ranges are nearly identical → ✅ **Balanced distribution.**\n",
    "\n",
    "---\n",
    "\n",
    "### 🚻 3. Gender Distribution (`gendr`)\n",
    "\n",
    "| Group   | Male (%) | Female (%) |\n",
    "|---------|----------|-------------|\n",
    "| Control | 51.4%    | 48.6%       |\n",
    "| Test    | 50.7%    | 49.3%       |\n",
    "\n",
    "**Comment:**  \n",
    "Gender distribution is very balanced across groups. There is no significant gender bias between Test and Control → ✅ **Balanced distribution.**\n",
    "\n",
    "---\n",
    "\n",
    "### ✅ Summary\n",
    "\n",
    "The **Test** and **Control** groups are **demographically well balanced** in terms of:\n",
    "- Sample size (reasonably close),\n",
    "- Age (virtually identical distribution),\n",
    "- Gender (no noticeable skew).\n",
    "\n",
    "This indicates that the experimental design is solid from a demographic perspective.\n",
    "\n",
    "---"
   ]
  }
 ],
 "metadata": {
  "kernelspec": {
   "display_name": "base",
   "language": "python",
   "name": "python3"
  },
  "language_info": {
   "codemirror_mode": {
    "name": "ipython",
    "version": 3
   },
   "file_extension": ".py",
   "mimetype": "text/x-python",
   "name": "python",
   "nbconvert_exporter": "python",
   "pygments_lexer": "ipython3",
   "version": "3.12.7"
  }
 },
 "nbformat": 4,
 "nbformat_minor": 2
}
