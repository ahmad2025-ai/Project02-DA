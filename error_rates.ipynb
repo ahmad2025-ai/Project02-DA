{
 "cells": [
  {
   "cell_type": "code",
   "execution_count": 1,
   "id": "4f42597f",
   "metadata": {},
   "outputs": [],
   "source": [
    "import pandas as pd\n",
    "import matplotlib.pyplot as plt\n",
    "import numpy as np"
   ]
  },
  {
   "cell_type": "code",
   "execution_count": null,
   "id": "b1bc157f",
   "metadata": {},
   "outputs": [
    {
     "name": "stderr",
     "output_type": "stream",
     "text": [
      "/var/folders/yr/gmmc3xcx5xg406qfnj2bnx340000gn/T/ipykernel_89628/695658290.py:2: DtypeWarning: Columns (14) have mixed types. Specify dtype option on import or set low_memory=False.\n",
      "  full_merged= pd.read_csv('../merged_data/full_info_dataframe.csv')\n"
     ]
    },
    {
     "data": {
      "text/html": [
       "<div>\n",
       "<style scoped>\n",
       "    .dataframe tbody tr th:only-of-type {\n",
       "        vertical-align: middle;\n",
       "    }\n",
       "\n",
       "    .dataframe tbody tr th {\n",
       "        vertical-align: top;\n",
       "    }\n",
       "\n",
       "    .dataframe thead th {\n",
       "        text-align: right;\n",
       "    }\n",
       "</style>\n",
       "<table border=\"1\" class=\"dataframe\">\n",
       "  <thead>\n",
       "    <tr style=\"text-align: right;\">\n",
       "      <th></th>\n",
       "      <th>client_id</th>\n",
       "      <th>visitor_id</th>\n",
       "      <th>visit_id</th>\n",
       "      <th>process_step</th>\n",
       "      <th>date_time</th>\n",
       "      <th>is_client</th>\n",
       "      <th>clnt_tenure_yr</th>\n",
       "      <th>clnt_tenure_mnth</th>\n",
       "      <th>clnt_age</th>\n",
       "      <th>gendr</th>\n",
       "      <th>num_accts</th>\n",
       "      <th>bal</th>\n",
       "      <th>calls_6_mnth</th>\n",
       "      <th>logons_6_mnth</th>\n",
       "      <th>variation</th>\n",
       "    </tr>\n",
       "  </thead>\n",
       "  <tbody>\n",
       "    <tr>\n",
       "      <th>0</th>\n",
       "      <td>9988021</td>\n",
       "      <td>580560515_7732621733</td>\n",
       "      <td>781255054_21935453173_531117</td>\n",
       "      <td>step_2</td>\n",
       "      <td>2017-04-17 15:26:51</td>\n",
       "      <td>True</td>\n",
       "      <td>5.0</td>\n",
       "      <td>64.0</td>\n",
       "      <td>79.0</td>\n",
       "      <td>NaN</td>\n",
       "      <td>2.0</td>\n",
       "      <td>189023.86</td>\n",
       "      <td>1.0</td>\n",
       "      <td>4.0</td>\n",
       "      <td>Test</td>\n",
       "    </tr>\n",
       "    <tr>\n",
       "      <th>1</th>\n",
       "      <td>9988021</td>\n",
       "      <td>580560515_7732621733</td>\n",
       "      <td>781255054_21935453173_531117</td>\n",
       "      <td>step_3</td>\n",
       "      <td>2017-04-17 15:19:22</td>\n",
       "      <td>True</td>\n",
       "      <td>5.0</td>\n",
       "      <td>64.0</td>\n",
       "      <td>79.0</td>\n",
       "      <td>NaN</td>\n",
       "      <td>2.0</td>\n",
       "      <td>189023.86</td>\n",
       "      <td>1.0</td>\n",
       "      <td>4.0</td>\n",
       "      <td>Test</td>\n",
       "    </tr>\n",
       "    <tr>\n",
       "      <th>2</th>\n",
       "      <td>9988021</td>\n",
       "      <td>580560515_7732621733</td>\n",
       "      <td>781255054_21935453173_531117</td>\n",
       "      <td>step_2</td>\n",
       "      <td>2017-04-17 15:19:13</td>\n",
       "      <td>True</td>\n",
       "      <td>5.0</td>\n",
       "      <td>64.0</td>\n",
       "      <td>79.0</td>\n",
       "      <td>NaN</td>\n",
       "      <td>2.0</td>\n",
       "      <td>189023.86</td>\n",
       "      <td>1.0</td>\n",
       "      <td>4.0</td>\n",
       "      <td>Test</td>\n",
       "    </tr>\n",
       "    <tr>\n",
       "      <th>3</th>\n",
       "      <td>9988021</td>\n",
       "      <td>580560515_7732621733</td>\n",
       "      <td>781255054_21935453173_531117</td>\n",
       "      <td>step_3</td>\n",
       "      <td>2017-04-17 15:18:04</td>\n",
       "      <td>True</td>\n",
       "      <td>5.0</td>\n",
       "      <td>64.0</td>\n",
       "      <td>79.0</td>\n",
       "      <td>NaN</td>\n",
       "      <td>2.0</td>\n",
       "      <td>189023.86</td>\n",
       "      <td>1.0</td>\n",
       "      <td>4.0</td>\n",
       "      <td>Test</td>\n",
       "    </tr>\n",
       "    <tr>\n",
       "      <th>4</th>\n",
       "      <td>9988021</td>\n",
       "      <td>580560515_7732621733</td>\n",
       "      <td>781255054_21935453173_531117</td>\n",
       "      <td>step_2</td>\n",
       "      <td>2017-04-17 15:17:15</td>\n",
       "      <td>True</td>\n",
       "      <td>5.0</td>\n",
       "      <td>64.0</td>\n",
       "      <td>79.0</td>\n",
       "      <td>NaN</td>\n",
       "      <td>2.0</td>\n",
       "      <td>189023.86</td>\n",
       "      <td>1.0</td>\n",
       "      <td>4.0</td>\n",
       "      <td>Test</td>\n",
       "    </tr>\n",
       "  </tbody>\n",
       "</table>\n",
       "</div>"
      ],
      "text/plain": [
       "   client_id            visitor_id                      visit_id process_step  \\\n",
       "0    9988021  580560515_7732621733  781255054_21935453173_531117       step_2   \n",
       "1    9988021  580560515_7732621733  781255054_21935453173_531117       step_3   \n",
       "2    9988021  580560515_7732621733  781255054_21935453173_531117       step_2   \n",
       "3    9988021  580560515_7732621733  781255054_21935453173_531117       step_3   \n",
       "4    9988021  580560515_7732621733  781255054_21935453173_531117       step_2   \n",
       "\n",
       "             date_time  is_client  clnt_tenure_yr  clnt_tenure_mnth  clnt_age  \\\n",
       "0  2017-04-17 15:26:51       True             5.0              64.0      79.0   \n",
       "1  2017-04-17 15:19:22       True             5.0              64.0      79.0   \n",
       "2  2017-04-17 15:19:13       True             5.0              64.0      79.0   \n",
       "3  2017-04-17 15:18:04       True             5.0              64.0      79.0   \n",
       "4  2017-04-17 15:17:15       True             5.0              64.0      79.0   \n",
       "\n",
       "  gendr  num_accts        bal  calls_6_mnth  logons_6_mnth variation  \n",
       "0   NaN        2.0  189023.86           1.0            4.0      Test  \n",
       "1   NaN        2.0  189023.86           1.0            4.0      Test  \n",
       "2   NaN        2.0  189023.86           1.0            4.0      Test  \n",
       "3   NaN        2.0  189023.86           1.0            4.0      Test  \n",
       "4   NaN        2.0  189023.86           1.0            4.0      Test  "
      ]
     },
     "execution_count": 2,
     "metadata": {},
     "output_type": "execute_result"
    }
   ],
   "source": [
    "import pandas as pd\n",
    "full_merged = pd.read_csv('../merged_data/full_info_dataframe.csv')\n",
    "full_merged.head()"
   ]
  },
  {
   "cell_type": "code",
   "execution_count": 6,
   "id": "0387821f",
   "metadata": {},
   "outputs": [
    {
     "name": "stderr",
     "output_type": "stream",
     "text": [
      "/var/folders/yr/gmmc3xcx5xg406qfnj2bnx340000gn/T/ipykernel_89628/1877821770.py:21: SettingWithCopyWarning: \n",
      "A value is trying to be set on a copy of a slice from a DataFrame.\n",
      "Try using .loc[row_indexer,col_indexer] = value instead\n",
      "\n",
      "See the caveats in the documentation: https://pandas.pydata.org/pandas-docs/stable/user_guide/indexing.html#returning-a-view-versus-a-copy\n",
      "  backward_df['is_repeated'] = backward_df.duplicated(['visitor_id', 'process_step'], keep=False)\n"
     ]
    },
    {
     "name": "stdout",
     "output_type": "stream",
     "text": [
      "  variation  total_attempts  error_attempts  error_rate\n",
      "0   Control           67837           53265   78.519097\n",
      "1      Test           90953           73987   81.346410\n"
     ]
    },
    {
     "data": {
      "image/png": "[encoded data removed]",
      "text/plain": [
       "<Figure size 1000x600 with 1 Axes>"
      ]
     },
     "metadata": {},
     "output_type": "display_data"
    }
   ],
   "source": [
    "# Convert date_time to datetime and sort\n",
    "full_merged['date_time'] = pd.to_datetime(full_merged['date_time'])\n",
    "full_merged =full_merged.sort_values(['visitor_id', 'date_time'])\n",
    "\n",
    "# Create mapping of step order\n",
    "step_order = {'start': 0, 'step_1': 1, 'step_2': 2, 'step_3': 3, 'confirm': 4}\n",
    "full_merged['step_num'] = full_merged['process_step'].map(step_order)\n",
    "\n",
    "# Identify backward movements\n",
    "full_merged['next_step'] = full_merged.groupby('visitor_id')['step_num'].shift(-1)\n",
    "full_merged['step_diff'] = full_merged['next_step'] - full_merged['step_num']\n",
    "full_merged['went_backward'] = full_merged['step_diff'] < 0\n",
    "\n",
    "# Calculate error rates by variation\n",
    "def calculate_backward_error_rates(df):\n",
    "    # Filter to only users who went backward at least once\n",
    "    backward_users = full_merged[full_merged['went_backward']]['visitor_id'].unique()\n",
    "    backward_df = full_merged[full_merged['visitor_id'].isin(backward_users)]\n",
    "    \n",
    "    # Calculate error rates (repeated steps) for these users\n",
    "    backward_df['is_repeated'] = backward_df.duplicated(['visitor_id', 'process_step'], keep=False)\n",
    "    \n",
    "    # Group by variation\n",
    "    total_attempts = backward_df.groupby('variation').size().reset_index(name='total_attempts')\n",
    "    error_attempts = backward_df[backward_df['is_repeated']].groupby('variation').size().reset_index(name='error_attempts')\n",
    "    \n",
    "    # Merge and calculate error rate\n",
    "    error_rates = pd.merge(total_attempts, error_attempts, on='variation', how='left')\n",
    "    error_rates['error_attempts'] = error_rates['error_attempts'].fillna(0)\n",
    "    error_rates['error_rate'] = (error_rates['error_attempts'] / error_rates['total_attempts']) * 100\n",
    "    print(error_rates)\n",
    "    return error_rates\n",
    "\n",
    "backward_error_rates = calculate_backward_error_rates(full_merged)\n",
    "\n",
    "# Visualization\n",
    "plt.figure(figsize=(10, 6))\n",
    "bars = plt.bar(backward_error_rates['variation'], backward_error_rates['error_rate'],\n",
    "               color=['#1f77b4', '#ff7f0e'], edgecolor='black')\n",
    "\n",
    "plt.title('Error Rate for Users Who Went Backward\\nby Variation', fontsize=16, pad=20)\n",
    "plt.xlabel('Variation', fontsize=12)\n",
    "plt.ylabel('Error Rate (%)', fontsize=12)\n",
    "\n",
    "# Add value labels\n",
    "for bar in bars:\n",
    "    height = bar.get_height()\n",
    "    plt.text(bar.get_x() + bar.get_width()/2, height,\n",
    "             f'{height:.1f}%',\n",
    "             ha='center', va='bottom', fontsize=12)\n",
    "\n",
    "# Add sample size annotations\n",
    "sample_sizes =   full_merged[  full_merged['visitor_id'].isin(  full_merged[  full_merged['went_backward']]['visitor_id'].unique())]\\\n",
    "                .groupby('variation')['visitor_id'].nunique()\n",
    "for i, var in enumerate(backward_error_rates['variation']):\n",
    "    plt.text(i, -5, f'n={sample_sizes[var]} users',\n",
    "             ha='center', va='top', fontsize=10)\n",
    "\n",
    "plt.ylim(0, max(backward_error_rates['error_rate']) * 1.2)\n",
    "plt.grid(axis='y', linestyle='--', alpha=0.7)\n",
    "plt.tight_layout()\n",
    "plt.show()"
   ]
  },
  {
   "cell_type": "code",
   "execution_count": 4,
   "id": "a8ad9aa7",
   "metadata": {},
   "outputs": [
    {
     "name": "stdout",
     "output_type": "stream",
     "text": [
      "\n",
      "Percentage of users who went backward:\n",
      "  variation  pct_backward\n",
      "0   Control     29.638087\n",
      "1      Test     34.473077\n",
      "\n",
      "Average backward movements per user:\n",
      "  variation  avg_backward_moves\n",
      "0   Control            1.580894\n",
      "1      Test            1.783595\n"
     ]
    }
   ],
   "source": [
    "# Percentage of users who went backward by variation\n",
    "backward_users = full_merged[full_merged['went_backward']].groupby('variation')['visitor_id'].nunique()\n",
    "total_users = full_merged.groupby('variation')['visitor_id'].nunique()\n",
    "backward_pct = (backward_users / total_users * 100).reset_index(name='pct_backward')\n",
    "\n",
    "print(\"\\nPercentage of users who went backward:\")\n",
    "print(backward_pct)\n",
    "\n",
    "# Average number of backward movements per user\n",
    "backward_counts = full_merged[full_merged['went_backward']].groupby(['variation', 'visitor_id']).size()\\\n",
    "                    .groupby('variation').mean().reset_index(name='avg_backward_moves')\n",
    "print(\"\\nAverage backward movements per user:\")\n",
    "print(backward_counts)"
   ]
  },
  {
   "cell_type": "code",
   "execution_count": 7,
   "id": "a4a18e92",
   "metadata": {},
   "outputs": [
    {
     "name": "stdout",
     "output_type": "stream",
     "text": [
      "Data exported successfully!\n"
     ]
    }
   ],
   "source": [
    "full_merged.to_csv('../merged_data/full_merged.csv', index=False)\n",
    "print(\"Data exported successfully!\")"
   ]
  }
 ],
 "metadata": {
  "kernelspec": {
   "display_name": "base",
   "language": "python",
   "name": "python3"
  },
  "language_info": {
   "codemirror_mode": {
    "name": "ipython",
    "version": 3
   },
   "file_extension": ".py",
   "mimetype": "text/x-python",
   "name": "python",
   "nbconvert_exporter": "python",
   "pygments_lexer": "ipython3",
   "version": "3.12.7"
  }
 },
 "nbformat": 4,
 "nbformat_minor": 5
}
